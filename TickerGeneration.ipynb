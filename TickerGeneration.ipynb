{
 "cells": [
  {
   "cell_type": "code",
   "execution_count": null,
   "metadata": {},
   "outputs": [],
   "source": [
    "'''\n",
    "The code below will generate a complete list of WSB accepted tickers when run on a home PC, things like Google Colab are \n",
    "blocked by NYSE or whoever is being queried though so it won't work 'in the cloud'.\n",
    "\n",
    "The output of the 'filtered' variable should be used for the uppercase non-$-prefixed list. The 'complete' variable \n",
    "should be used for the $-prefixed list since it won't match common words.\n",
    "'''"
   ]
  },
  {
   "cell_type": "code",
   "execution_count": null,
   "metadata": {
    "id": "HwPU-m3jdQrO"
   },
   "outputs": [],
   "source": [
    "%%capture\n",
    "# Install the dictionary lookup library\n",
    "!pip3 install pyenchant\n",
    "import enchant\n",
    "dic = enchant.Dict(\"en_US\")"
   ]
  },
  {
   "cell_type": "code",
   "execution_count": null,
   "metadata": {
    "id": "9q6t-VPpdQrO"
   },
   "outputs": [],
   "source": [
    "%%capture\n",
    "# Install the ticker lookup library\n",
    "!pip install get-all-tickers\n",
    "from get_all_tickers import get_tickers as gt"
   ]
  },
  {
   "cell_type": "code",
   "execution_count": null,
   "metadata": {
    "id": "wsw3JwwbbI7r"
   },
   "outputs": [],
   "source": [
    "# List of accepted acronyms/tickers\n",
    "common = ['wsb', 'salt', 'irl', 'gf', 'pdfs', 'sand', 'prpl', 'ppt', 'eod', 'cuz', 'star', 'amc', 'spce', 'alot', 'kodk', 'robo', 'meds', 'ay', 'csv', 'bj', 'gpro', 'stim', 'cspr', 'jwn', 'ogs', 'gen', 'hyln', 'eod']\n",
    "common = [x.upper() for x in common]"
   ]
  },
  {
   "cell_type": "code",
   "execution_count": null,
   "metadata": {
    "id": "QG5oA2RodQrO"
   },
   "outputs": [],
   "source": [
    "# mktcap_max is in millions, can change to min for other stuff\n",
    "list_of_tickers = gt.get_tickers_filtered(mktcap_max=1000)"
   ]
  },
  {
   "cell_type": "code",
   "execution_count": null,
   "metadata": {
    "id": "DWHXwMAxdQrO"
   },
   "outputs": [],
   "source": [
    "# Run if you want to see it\n",
    "print(list_of_tickers)"
   ]
  },
  {
   "cell_type": "code",
   "execution_count": null,
   "metadata": {
    "id": "Iph793h1dQrO"
   },
   "outputs": [],
   "source": [
    "# Put the current automod list here to see the intersection between AutoMod and newly generated list\n",
    "d = [\"$UUU\", \"$RHE\", \"$TRPX\", \"$MDLY\", \"$APEX\", \"$NTN\", \"$NSPR\", \"$AYRO\", \"$ACY\", \"$LMFA\", \"$OPTT\", \"$MTSL\", \"$MCEP\", \"$MARPS\", \"$NAKD\", \"$AFH\", \"$ARTL\", \"$COHN\", \"$GLBS\", \"$KBSF\", \"$IPWR\", \"$EARS\",\"$SEARS\", \"SEARS\", \"$BLIN\", \"$BRN\", \"$CREG\", \"$GBR\", \"$AWX\", \"$BDR\", \"$MOSY\", \"$OBLG\", \"$CTIB\", \"$TCCO\", \"$OPHC\", \"$CCCL\", \"$DRAD\", \"$JOB\", \"$NURO\", \"$OXBR\", \"$TGC\", \"$SSY\", \"$XBIO\", \"$CARV\", \"$CTRM\", \"$IKNX\", \"$MXC\", \"$RELV\", \"$FAMI\", \"$JAN\", \"$CGIX\", \"$XTLB\", \"$SINO\", \"$SAEX\", \"$PSTV\", \"$SNES\", \"$NVFY\", \"$SNMP\", \"$CLWT\", \"$MYSZ\", \"$SYN\", \"$HJLI\", \"$OBLN\", \"$LLIT\", \"$TSRI\", \"$HIHO\", \"$SCON\", \"$NVIV\", \"$FFHL\", \"$HHT\", \"$DPW\", \"$ECT\", \"$IHT\", \"$WISA\", \"$SUNW\", \"$ISIG\", \"$STAF\", \"$SGLB\", \"$ENT\", \"$EDRY\", \"$SSNT\", \"$SNCA\", \"$TWMC\", \"$MDRR\", \"$SINT\", \"$SCKT\", \"$BOSC\", \"$NVUS\", \"$ARTW\", \"$XRF\", \"$ANCN\", \"$PPSI\", \"$ANTE\", \"$WAFU\", \"$KOSS\", \"$DXF\", \"$NTZ\", \"$IMRN\", \"$CEI\", \"$DMPI\", \"$MFH\", \"$ENSV\", \"$DYNT\", \"$FRAN\", \"$NSYS\", \"$VIVE\", \"$RCON\", \"$MYOS\", \"$NETE\", \"$SQBG\", \"$ROSEU\", \"$MOXC\", \"$JRJC\", \"$EVK\", \"$USEG\", \"$TUES\", \"$REXN\", \"$MRIN\", \"$ROSE\", \"$ATHE\", \"$APOP\", \"$PRPO\", \"$MYO\", \"$TRT\", \"$SMIT\", \"$MTP\", \"$HUSA\", \"$BBI\", \"$BNSO\", \"$YVR\", \"$HMG\", \"$LEDS\", \"$LYL\", \"$AIHS\", \"$HUSN\", \"$AMS\", \"$SXTC\", \"$ROYT\", \"$DLPN\", \"$TYHT\", \"$AVGR\", \"$KGJI\", \"$BNTC\", \"$ICON\", \"$MTR\", \"$FORD\", \"$PETZ\", \"$EVOL\", \"$BGI\", \"$AMRH\", \"$ELSE\", \"$TCON\", \"$PHIO\", \"$CYAN\", \"$NXTD\", \"$NDRA\", \"$YTEN\", \"$SPI\", \"$CLRB\", \"$SGMA\", \"$OSN\", \"$ITP\", \"$WSTL\", \"$ZDGE\", \"$XSPA\", \"$BIOL\", \"$EDNT\", \"$IMTE\", \"$MDGS\", \"$AUTO\", \"$VVPR\", \"$BOXL\", \"$POLA\", \"$AEMD\", \"$MICT\", \"$RAVE\", \"$APWC\", \"$TAT\", \"$DRIO\", \"$ESEA\", \"$LONE\", \"$WHLR\", \"$CHFS\", \"$DXYN\", \"$SGRP\", \"$SFET\", \"$TBLT\", \"$EAST\", \"$TAIT\", \"$ABIO\", \"$GTIM\", \"$EFOI\", \"$TAOP\", \"$SPN\", \"$SYPR\", \"$ELGX\", \"$SLRX\", \"$PSV\", \"$CLIR\", \"$CTEK\", \"$MARA\", \"$IMAC\", \"$SNOA\", \"$MSN\", \"$CKX\", \"$SUMR\", \"$XELB\", \"$TKAT\", \"$BKYI\", \"$EQS\", \"$KIRK\", \"$XTNT\", \"$RAIL\", \"$CHEK\", \"$DSS\", \"$LODE\", \"$ACHV\", \"$JVA\", \"$PFIN\", \"$DNJR\", \"$DUOT\", \"$HHS\", \"$AMTX\", \"$GRIL\", \"$CGA\", \"$AKER\", \"$UMRX\", \"$OCGN\", \"$TMDI\", \"$LIVE\", \"$WWR\", \"$AINC\", \"$ADIL\", \"$TENX\", \"$POAI\", \"$LLEX\", \"$TGEN\", \"$RMED\", \"$HEPA\", \"$ASNA\", \"$CETX\", \"$ELTK\", \"$TTPH\", \"$MKGI\", \"$SNDE\", \"$TRMT\", \"$SPCB\", \"$LTBR\", \"$RBCN\", \"$RMBL\", \"$PIXY\", \"$CHCI\", \"$MKD\", \"$USAU\", \"$PRPH\", \"$XPL\", \"$SMRT\", \"$SONM\", \"$RCMT\", \"$TLGT\", \"$FTEK\", \"$SEED\", \"$OCC\", \"$APVO\", \"$CANF\", \"$CHNR\", \"$CPHI\", \"$DXLG\", \"$ZKIN\", \"$BPTH\", \"$CPSH\", \"$MIND\", \"$ASTC\", \"$AEY\", \"$NNDM\", \"$PDSB\", \"$HSDT\", \"$CVR\", \"$PECK\", \"$CNET\", \"$GTEC\", \"$CLSK\", \"$JAKK\", \"$VOLT\", \"$QRHC\", \"$VVUS\", \"$SDPI\", \"$GEVO\", \"$CTHR\", \"$PXS\", \"$CSU\", \"$MYT\", \"$RWLK\", \"$CBLI\", \"$IZEA\", \"$RNET\", \"$HNRG\", \"$IDXG\", \"$JCTCF\", \"$SVT\", \"$CVV\", \"$BSQR\", \"$ISNS\", \"$CPAH\", \"$HGSH\", \"$TRXC\", \"$SGBX\", \"$SIF\", \"$DCTH\", \"$CPST\", \"$VTGN\", \"$GVP\", \"$IGC\", \"$PLAG\", \"$NAOV\", \"$RGLS\", \"$OEG\", \"$CCLP\", \"$EYES\", \"$RETO\", \"$PNBK\", \"$DTEA\", \"$ATOS\", \"$SLS\", \"$NCSM\", \"$EKSO\", \"$WHLM\", \"$AZRX\", \"$WTT\", \"$CREX\", \"$CHAP\", \"$SALM\", \"UONEK\", \"$PER\", \"$CLUB\", \"$PBTS\", \"$ITRM\", \"$ICD\", \"$UAMY\", \"$SVVC\", \"$SRAX\", \"$HSON\", \"$EYEG\", \"$NCTY\", \"$NMCI\", \"$HCAP\", \"$CLEU\", \"$NES\", \"$SCX\", \"$CNFR\", \"$QES\", \"$CYCC\", \"$SPRT\", \"$AIKI\", \"$GLBZ\", \"$NBY\", \"$NTEC\", \"$LMB\", \"$CBAT\", \"$FSI\", \"$LUB\", \"$PYX\", \"$JILL\", \"$ALIM\", \"$GSUM\", \"$IFMK\", \"$PHCF\", \"$BTN\", \"$WVFC\", \"$PRT\", \"$RTW\", \"$AACG\", \"$DAIO\", \"$HUGE\", \"$FORK\", \"$KEQU\", \"$ALJJ\", \"$JAGX\", \"$GENE\", \"$BHTG\", \"$NHLD\", \"$DOGZ\", \"$TTNP\", \"DMYT\", \"$DMYT\", \"HCAC\", \"$HCAC\", \"KCAC\", \"$KCAC\", \"NOVS\", \"CIIC\", \"$CIIC\", \"GHIV\", \"$GHIV\", \"INAQ\", \"$INAQ\", \"$NOVS\", \"$THCB\", \"THCB\", \"$MOGO\", \"TDAC\", \"$TDAC\", \"GIX\", \"$GIX\", \"$AEZS\", \"$OTEL\", \"$KIQ\", \"QuantumScape\", \"Smallstreetbets\", \"ALPP\", \"$ALPP\", \"SRAC\", \"$SRAC\", \"TSNP\", \"$TSNP\", \"TXMD\", \"$TXMD\", \"HYSR\", \"$HYSR\", \"FIII\", \"$FIII\", \"APXT\", \"$VTSI\", \"$RYCE\", \"$PIH\", \"$BIMI\", \"$NEWA\", \"$DGLY\", \"$DARE\", \"$MDIA\", \"$RMCF\", \"$WKEY\", \"$HVBC\", \"$EVGN\", \"$UNAM\", \"$ENG\", \"$OSS\", \"$CNNB\", \"$PATI\", \"$RAND\", \"$PRCP\", \"$INDO\", \"$CLPS\", \"$KZIA\", \"$HCR\", \"$GMO\", \"$AAMC\", \"$TANH\", \"$EMAN\", \"$CLBS\", \"$BCDA\", \"$EDSA\", \"$OPGN\", \"$OCCI\", \"$TRIB\", \"$AREC\", \"$BLRX\", \"$TOCA\", \"$MRKR\", \"$TRCH\", \"$SBPH\", \"$RNGR\", \"$VTNR\", \"$ANVS\", \"$OGEN\", \"$CLRO\", \"$BBQ\", \"$CRIS\", \"$GIGM\", \"$TLF\", \"$TMBR\", \"$UFAB\", \"$PZG\", \"$DWSN\", \"$NM/PH\", \"$NM/PG\", \"$STRM\", \"$VISL\", \"$AMBO\", \"$PACD\", \"$KXIN\", \"$WVVI\", \"$BDL\", \"$LXU\", \"$NM\", \"$MREO\", \"$FRD\", \"$NTRP\", \"$NOVN\", \"$NE\", \"$SHLO\", \"$ICCC\", \"$TATT\", \"$PT\", \"$USWS\", \"$RKDA\", \"$DIT\", \"$IRIX\", \"$PMD\", \"$PSHG\", \"$PFMT\", \"$SHIP\", \"$UONEK\", \"$ACER\", \"$BBW\", \"vgac\", \"$vgac\", \"$STCN\", \"$VJET\", \"$BCTF\", \"$CVU\", \"$SLGG\", \"$PLIN\", \"$PLXP\", \"$MDJH\", \"$FTSI\", \"$INUV\", \"$HTGM\", \"$VOC\", \"$BNGO\", \"$TACT\", \"$QUMU\", \"$PEIX\", \"$STIM\", \"$NVCN\", \"$CSPI\", \"$TNXP\", \"$AXAS\", \"$SMHI\", \"$IMBI\", \"$ICCH\", \"$INOD\", \"$VERB\", \"$FET\", \"$FPAY\", \"$IMH\", \"$OTTW\", \"$MOTS\", \"$AVCT\", \"$ENTX\", \"$JP\", \"$INTT\", \"$LIFE\", \"$FNJN\", \"$NEOS\", \"$SUP\", \"$AIRI\", \"$MCC\", \"$WIMI\", \"$AHPI\", \"$AHC\", \"$ECOR\", \"$IO\", \"$ADMP\", \"$ACOR\", \"$AXR\", \"$PPHI\", \"$ALRN\", \"$APEN\", \"$GECC\", \"$SONN\", \"$AIRT\", \"$TAYD\", \"$LWAY\", \"$MNDO\", \"$ATV\", \"$NTWK\", \"$SDRL\", \"$BHAT\", \"$GNLN\", \"$FRSX\", \"$HOTH\", \"$TGA\", \"$AAME\", \"$AEHR\", \"$HDSN\", \"$CMT\", \"$NWGI\", \"$DTSS\", \"$ETTX\", \"$MTEX\", \"$PFIE\", \"$SELF\", \"$FSEA\", \"$KLXE\", \"$NSEC\", \"$TOTA\", \"$NRT\", \"$INPX\", \"$BYFC\", \"$THMO\", \"$ARC\", \"$HWCC\", \"$ANY\", \"$SOHO\", \"$MVO\", \"$AP\", \"$PTE\", \"$CCM\", \"$XOG\", \"$USIO\", \"$SNSS\", \"$ESBK\", \"$AGE\", \"$OIIM\", \"$CTXR\", \"$DSWL\", \"$HFBL\", \"$ISDR\", \"$NEON\", \"$HBP\", \"$LOAN\", \"$FAT\", \"$SSKN\", \"$BKTI\", \"$EVSI\", \"$PULM\", \"$FENG\", \"$GROW\", \"$FTFT\", \"$RIBT\", \"$GURE\", \"$HALL\", \"$IEA\", \"$TOPS\", \"$LPCN\", \"$CPTA\", \"$BOTJ\", \"$BLCM\", \"$HZN\", \"$VBFC\", \"$ARKR\", \"$TTI\", \"$LGL\", \"$MLND\", \"$SND\", \"$GHSI\", \"$AMPY\", \"$VIRC\", \"$KTCC\", \"$OMEX\", \"$ADXS\", \"$NICK\", \"$CRT\", \"$ONDK\", \"$BCOW\", \"$NAII\", \"$UAVS\", \"$APDN\", \"$SOLO\", \"$GRIN\", \"$MEDS\", \"$IOR\", \"$TESS\", \"$MAYS\", \"$RLH\", \"$BGFV\", \"$QUIK\", \"$PPIH\", \"$SBOW\", \"$ARPO\", \"$SYNC\", \"$ESP\", \"$KINS\", \"$ALOT\", \"$CNSP\", \"$FUSB\", \"$CBMB\", \"$GIFI\", \"$CJJD\", \"$GLG\", \"$ZOM\", \"$KTOV\", \"$MACK\", \"$BWL.A\", \"$ANIX\", \"$PBHC\", \"$HYRE\", \"$ISR\", \"$REED\", \"$PW\", \"$ZN\", \"$WYY\", \"$COCP\", \"$HSTO\", \"$MTC\", \"$YGYI\", \"$ALTM\", \"$OPNT\", \"$ASRV\", \"$SRTS\", \"$RNDB\", \"$BLNK\", \"$JCS\", \"$SEEL\", \"$FBSS\", \"$CPIX\", \"$PBPB\", \"$PHUN\", \"$SNGX\", \"$CLDX\", \"$INFI\", \"$LRMR\", \"$SAVA\", \"$NTIP\", \"$MGYR\", \"$IROQ\", \"$PVL\", \"$CRWS\", \"$FLL\", \"$SOL\", \"$XELA\", \"$CRDF\", \"$CBL\", \"$DVD\", \"$AQMS\", \"$CPHC\", \"$ZSAN\", \"$WTRH\", \"$ONCS\", \"$DXR\", \"$BWEN\", \"$KFS\", \"$MBOT\", \"$HX\", \"$LAZY\", \"$STRT\", \"$MN\", \"$CLDB\", \"$GARS\", \"$TUSK\", \"$OBCI\", \"$CDOR\", \"$MGEN\", \"$NMTR\", \"$CFBI\", \"$KFFB\", \"$PED\", \"$NAVB\", \"$ZCMD\", \"$JFIN\", \"$ORSNU\", \"$RFIL\", \"$BIOC\", \"$RELL\", \"$AUMN\", \"$MOHO\", \"$RIVE\", \"$SD\", \"$ICMB\", \"$STKS\", \"$UBOH\", \"$TPHS\", \"$MDWD\", \"$RNWK\", \"$LOAC\", \"$CPSS\", \"$HPR\", \"$CWBC\", \"$YRCW\", \"$CHRA\", \"$JRSH\", \"$EGY\", \"$CFBK\", \"$JMP\", \"$BKEP\", \"$AAU\", \"$UONE\", \"BYFC\", \"CARV\", \"UONEK\", \"UONE\", \"$WTER\", \"$CELP\", \"$ACST\", \"$EYEN\", \"$WEI\", \"$MFIN\", \"$ACRS\", \"$BRQS\", \"$HCFT\", \"$ASM\", \"$TRVI\", \"$EVOK\", \"$ONCT\", \"$HNNA\", \"$EQ\", \"$OBAS\", \"$FUV\", \"$TEUM\", \"$BASI\", \"$SKYS\", \"$EMCF\", \"$INWK\", \"$LPTH\", \"$PTMN\", \"$AMRB\", \"$ONCY\", \"$GEC\", \"$ATCX\", \"$RYB\", \"$FEDU\", \"$BSET\", \"$VBLT\", \"$AGBA\", \"$TLRD\", \"$CODA\", \"$CXDC\", \"$NINE\", \"$VCNX\", \"$PLL\", \"$JE\", \"$ARDS\", \"$CCNC\", \"$VRNA\", \"$IMMP\", \"$INMB\", \"$CLPT\", \"$LEE\", \"$CTG\", \"$JAX\", \"$GFED\", \"$OFS\", \"$AKTX\", \"$INTG\", \"$LEAF\", \"$ANPC\", \"$ALNA\", \"$SSBI\", \"$SFBC\", \"$SACH\", \"$MSBF\", \"$ALUS.U\", \"$ATNM\", \"$GNC\", \"$DLNG\", \"$UBCP\", \"$IDEX\", \"$CRC\", \"$DMAC\", \"$USAK\", \"$EDUC\", \"$PHX\", \"$CLGN\", \"$BORR\", \"$GPAQ\", \"$CAAS\", \"$NWHM\", \"$DFFN\", \"$HTBX\", \"$CDR\", \"$CFMS\", \"$VAL\", \"$NTIC\", \"$BGG\", \"$BNED\", \"$UTSI\", \"$BXC\", \"$LSBK\", \"$PESI\", \"$FXNC\", \"$BXRX\", \"$BBGI\", \"$STON\", \"$XAN\", \"$VNCE\", \"$TZOO\", \"$ASLN\", \"$NNVC\", \"$STG\", \"$HAPP\", \"$USAP\", \"$MBRX\", \"$SEAC\", \"$YTRA\", \"$CTRA\", \"$BMRA\", \"$SFUN\", \"$HMNF\", \"$ARMP\", \"$FFBW\", \"$MCHX\", \"$PTI\", \"$GMBL\", \"$ENLV\", \"$CYRN\", \"$IDRA\", \"$CIDM\", \"$MAGS\", \"$NEPH\", \"$GRNV\", \"$TWIN\", \"$QLGN\", \"$MITO\", \"$LACQ\", \"$YCBD\", \"$SANW\", \"$AHT\", \"$ACU\", \"$NBRV\", \"$AFI\", \"$FTK\", \"$CLSN\", \"$GNCA\", \"$GRNVU\", \"$LITB\", \"$ALPN\", \"$TORC\", \"$AWRE\", \"$NBACU\", \"$GSL\", \"$JFK\", \"$RBKB\", \"$ASYS\", \"$ORN\", \"$ROCHU\", \"$AIM\", \"$RENN\", \"$NMM\", \"$EDAP\", \"$ORMP\", \"$CVIA\", \"$PDEX\", \"$CVGI\", \"$SVBI\", \"$FLXS\", \"$WLL\", \"$HCAC\", \"$AVNW\", \"$ADMS\", \"$PZN\", \"$ASFI\", \"$RSSS\", \"$EPSN\", \"$WATT\", \"$EDN\", \"$RRD\", \"$FEIM\", \"$CAPR\", \"$REI\", \"$ALO\", \"$OPOF\", \"$SCYX\", \"$LIVKU\", \"$TWI\", \"$RDI\", \"$VEL\", \"$TZAC\", \"$LAIX\", \"$BFO\", \"$CZWI\", \"$BLPH\", \"$DLA\", \"$MITT\", \"$UG\", \"$CTIC\", \"$BWAY\", \"$BRBS\", \"$NGS\", \"$XYF\", \"$SIC\", \"$MNPR\", \"$INVE\", \"$TSQ\", \"$CLSD\", \"$SYBX\", \"$HIL\", \"$ISSC\", \"$LOV\", \"$REKR\", \"$OPES\", \"$SECO\", \"$LMST\", \"$ONTX\", \"$IEC\", \"$UNB\", \"$ATTO\", \"$AEYE\", \"$AMPE\", \"$LMPX\", \"$CIH\", \"$CHAQ.U\", \"$NNA\", \"$SESN\", \"$MTBC\", \"$SYNL\", \"$OTIC\", \"$RIOT\", \"$HQI\", \"$ESTE\", \"$BPT\", \"$SMTX\", \"$LSACU\", \"$JT\", \"$PMBC\", \"$ZAGG\", \"$GRNQ\", \"$KOPN\", \"$ZGYHU\", \"$MLVF\", \"$MWK\", \"$TC\", \"$INSE\", \"$LEU\", \"$EPM\", \"$MNTX\", \"$NHTC\", \"$USDP\", \"$III\", \"$CVEO\", \"$WRN\", \"$AESE\", \"$PSTL\", \"$AIRG\", \"$SNDL\", \"$AQB\", \"$EMKR\", \"$CSSE\", \"$GNPX\", \"$CCRC\", \"$MRLN\", \"$ATIF\", \"$ELVT\", \"$SGOC\", \"$PEI\", \"$PRGX\", \"$ALYA\", \"$ONVO\", \"$PME\", \"$OPBK\", \"$PANL\", \"$AI\", \"$BSVN\", \"$MIST\", \"$BKSC\", \"$APM\", \"$ADES\", \"$URG\", \"$BATL\", \"$VUZI\", \"$CMLS\", \"$CULP\", \"$VERO\", \"$DLHC\", \"$PLG\", \"$VGZ\", \"$GV\", \"$MRBK\", \"$ZVO\", \"$RDCM\", \"$CRVS\", \"$ONEW\", \"$PINE\", \"$OCN\", \"$PROV\", \"$SENS\", \"$PAAC\", \"$LPTX\", \"$PBIP\", \"$FSFG\", \"$MDCA\", \"$PLBC\", \"$SRL\", \"$MMLP\", \"$FFNW\", \"$DAC\", \"$WINT\", \"$SAL\", \"$GDP\", \"$FUNC\", \"$WSTG\", \"$ELA\", \"$ASUR\", \"$MHLD\", \"$PAVM\", \"$CELC\", \"$PEBK\", \"$HBIO\", \"$WSG\", \"$SSSS\", \"$MYFW\", \"$MLSS\", \"$TTOO\", \"$SB\", \"$UBFO\", \"$PCYG\", \"$EYPT\", \"$ACRX\", \"$GTE\", \"$LTRX\", \"$UAN\", \"$TEDU\", \"$GLMD\", \"$CYCN\", \"$HOV\", \"$ASRT\", \"$PCOM\", \"$TFFP\", \"$MFNC\", \"$BHR\", \"$PRTH\", \"$GEN\", \"$TOUR\", \"$SHSP\", \"$GASS\", \"$GEOS\", \"$REPH\", \"$TRVG\", \"$CWBR\", \"$ERA\", \"$EPIX\", \"$MNSB\", \"$XXII\", \"$TGB\", \"$BGSF\", \"$LKCO\", \"$DRTT\", \"$PLX\", \"$ETON\", \"$SAMG\", \"$FCCO\", \"$PRTY\", \"$AE\", \"$BW\", \"$CKPT\", \"$OVLY\", \"$STND\", \"$LARK\", \"$LINC\", \"$CCR\", \"$SPKE\", \"$FRAF\", \"$IDN\", \"$RVSB\", \"$BELFB\", \"$EML\", \"$TCRD\", \"$LUMO\", \"$WMC\", \"$CSLT\", \"$CSBR\", \"$MRAM\", \"$BSBK\", \"$METC\", \"$LAKE\", \"$XAIR\", \"$CATB\", \"$NSCO\", \"$OVBC\", \"$BWFG\", \"$MESA\", \"$KODK\", \"$LCUT\", \"$AMRK\", \"$MOGU\", \"$OTLK\", \"$CMBM\", \"$MEC\", \"$BAF\", \"$SBFG\", \"$GHM\", \"$EARN\", \"$MBCN\", \"$CMCM\", \"$CALB\", \"$VOXX\", \"$FLMN\", \"$SNFCA\", \"$FNCB\", \"$CHMG\", \"$KRUS\", \"$HWBK\", \"$PFSW\", \"$ESXB\", \"$EBMT\", \"$CRMD\", \"$GLYC\", \"$SNCR\", \"$CFFI\", \"$LIQT\", \"$GSM\", \"$TA\", \"$RESN\", \"$CIZN\", \"$WPG\", \"$CBAN\", \"$KERN\", \"$PCTI\", \"$HTZ\", \"$ZEUS\", \"$MARK\", \"$IVAC\", \"$SPLP\", \"$AVEO\", \"$AVCO\", \"$BBF\", \"$SQNS\", \"$ACTG\", \"$WLFC\", \"$DBCP\", \"$AGTC\", \"$ELMD\", \"$OFED\", \"$PTN\", \"$SMED\", \"$SJT\", \"$FGBI\", \"$CHK\", \"$EVC\", \"$EXPR\", \"$BFIN\", \"$CVLY\", \"$IIN\", \"$VTVT\", \"$CLPR\", \"$ULBI\", \"$SVRA\", \"$DNR\", \"$ELOX\", \"$BOCH\", \"$CORR\", \"$CBFV\", \"$SHBI\", \"$MVC\", \"$DSX\", \"$MG\", \"$PHGE\", \"$FVE\", \"$SALT\", \"$ESQ\", \"$FBIZ\", \"$RICK\", \"$AXGT\", \"$LJPC\", \"$WBAI\", \"$CBIO\", \"$BELFA\", \"$TCFC\", \"$SMTS\", \"$EVBN\", \"$TRX\", \"$SLCT\", \"$MVIS\", \"$HBB\", \"$GPX\", \"$FCCY\", \"$ZYNE\", \"$CRHM\", \"$THTX\", \"$HCHC\", \"$WNEB\", \"$XIN\", \"$FARM\", \"$EVLO\", \"$ARL\", \"$SURF\", \"$ALT\", \"$ICBK\", \"$AUG\", \"$FNWB\", \"$LIZI\", \"$DHX\", \"$FSTR\", \"$HYMC\", \"$STRS\", \"$BPRN\", \"$PCB\", \"$LCTX\", \"$CFRX\", \"$SMLP\", \"$NBEV\", \"$WINS\", \"$XFOR\", \"$TDAC\", \"$XGN\", \"$ANDA\", \"$LEVL\", \"$KLR\", \"$SBT\", \"$APYX\", \"$ENZ\", \"$SLDB\", \"$ALSK\", \"$SRRA\", \"$SFE\", \"$PXLW\", \"$JG\", \"$RMTI\", \"$GPL\", \"$VNRX\", \"$BRID\", \"$GAIA\", \"$DS\", \"$ISTR\", \"$FRBK\", \"$FVCB\", \"$PWFL\", \"$AGFS\", \"$RUHN\", \"$CABA\", \"$FRBA\", \"$ABUS\", \"$TEAF\", \"$MMAC\", \"$HROW\", \"$OESX\", \"$PERI\", \"$CBNK\", \"$EMX\", \"$NRIM\", \"$PVAC\", \"$CLXT\", \"$ORRF\", \"$ANH\", \"$VNTR\", \"$TRVN\", \"$RMBI\", \"$CCB\", \"$CHMI\", \"$MBII\", \"$CPLP\", \"$GPP\", \"$ALDX\", \"$NWFL\", \"$XONE\", \"$NERV\", \"$CDTX\", \"$EGLE\", \"$ESSA\", \"$CMCT\", \"$RCKY\", \"$ESCA\", \"$NL\", \"$NMRD\", \"$TSBK\", \"$NBN\", \"$PDS\", \"$TCS\", \"$PHAS\", \"$REFR\", \"$SGC\", \"$SGA\", \"$RYAM\", \"$ALAC\", \"$PICO\", \"$INBK\", \"$BCML\", \"$GNSS\", \"$QMCO\", \"$MRCC\", \"$MCMJ\", \"$IMUX\", \"$FLNT\", \"$DZSI\", \"$TREC\", \"$WHG\", \"$SLNO\", \"$APTX\", \"$PNRG\", \"$QUAD\", \"$EOLS\", \"$PWOD\", \"$MBIO\", \"$DLTH\", \"$CNTY\", \"$PVBC\", \"$HEAR\", \"$OMP\", \"$SBBX\", \"$FONR\", \"$KVHI\", \"$FNHC\", \"$OAS\", \"$UNTY\", \"$TELA\", \"$SRT\", \"$TLYS\", \"$SJ\", \"$SCM\", \"$BCBP\", \"$SIFY\", \"$MVBF\", \"$TUP\", \"$ORGS\", \"$PDLB\", \"$TISI\", \"$SREV\", \"$FOSL\", \"$DYAI\", \"$BFRA\", \"$GALT\", \"$BRG\", \"$APT\", \"$APRN\", \"$MPB\", \"$KNDI\", \"$PKBK\", \"$LOGC\", \"$FCBP\", \"$LYTS\", \"$RRGB\", \"$GLEO.U\", \"$SUPV\", \"$PHGE.U\", \"$ERYP\", \"$ENOB\", \"$GSIT\", \"$TMST\", \"$IDT\", \"$SAMA\", \"$AMSC\", \"$EXFO\", \"$CHS\", \"$SAR\", \"$LIVX\", \"$CRESY\", \"$GENC\", \"$SWKH\", \"$ASPN\", \"$CERC\", \"$CTRN\", \"$EEX\", \"$NRP\", \"$CYAD\", \"$RFP\", \"$VIOT\", \"$CEMI\", \"$FSBW\", \"$ATOM\", \"$ESSCU\", \"$VERY\", \"$PLSE\", \"$PBT\", \"$CEIX\", \"$KRKR\", \"$PKOH\", \"$OPRX\", \"$ATLO\", \"$IPI\", \"$GMLP\", \"$DSKE\", \"$NC\", \"$ASC\", \"$PIRS\", \"$IDYA\", \"$IMV\", \"$KZR\", \"$NEXT\", \"$OCSI\", \"$GSB\", \"$CVCY\", \"$TYME\", \"$AGS\", \"$AYTU\", \"$MTNB\", \"$GHL\", \"$OCX\", \"$OSG\", \"$BMRG.U\", \"$CIX\", \"$AQST\", \"$GOGO\", \"$AIH\", \"$GCBC\", \"$FDBC\", \"$NBSE\", \"$SLGL\", \"$NATR\", \"$SBBP\", \"$REDU\", \"$LCNB\", \"$CECE\", \"$XERS\", \"$WEYS\", \"$SIEN\", \"$JNCE\", \"$PSTI\", \"$FPRX\", \"$TRNS\", \"$UEPS\", \"$CLFD\", \"$AAOI\", \"$SOLY\", \"$WILC\", \"$WKHS\", \"$BBX\", \"$ATXI\", \"$GSMG\", \"$CGROU\", \"$FENC\", \"$ARAY\", \"$UEC\", \"$PFBI\", \"$CRNT\", \"$HBMD\", \"$GCI\", \"$KIN\", \"$IMMR\", \"$AUBN\", \"$NNBR\", \"$ARLO\", \"$BBCP\", \"$RM\", \"$IBIO\", \"$LUNA\", \"$GFN\", \"$MIXT\", \"$HOFT\", \"$NOA\", \"$VRA\", \"$ITI\", \"$CARE\", \"$WPRT\", \"$SPOK\", \"$IRCP\", \"$DMTK\", \"$HRZN\", \"$SAQNU\", \"$LQDT\", \"$DAKT\", \"$CMCL\", \"$BH\", \"$CPS\", \"$KALV\", \"$PROF\", \"$NKSH\", \"$VRTV\", \"$PTSI\", \"$AJX\", \"$SMSI\", \"$RLGT\", \"$LK\", \"$PRTK\", \"$CMRX\", \"$GSV\", \"$BRT\", \"$RYI\", \"$FNKO\", \"$TLC\", \"$VXRT\", \"$TCI\", \"$CTO\", \"$PFHD\", \"$MTA\", \"$TDW\", \"$ARAV\", \"$RVP\", \"$AYLA\", \"$BEDU\", \"$HT\", \"$LXRX\", \"$PTVCB\", \"$LFAC\", \"$AT\", \"$NR\", \"$RTIX\", \"$UUUU\", \"$LND\", \"$KLDO\", \"$BTE\", \"$JYNT\", \"$ISEE\", \"$GTYH\", \"$LTRPA\", \"$SUNS\", \"$NCNA\", \"$LYRA\", \"$MLP\", \"$INSU\", \"$HBCP\", \"$SOI\", \"$GRIF\", \"$HMHC\", \"$SMMF\", \"$BKCC\", \"$GLOP\", \"$GNFT\", \"$IRS\", \"$RGCO\", \"$HURC\", \"$BVXV\", \"$GNUS\", \"$ACNB\", \"$AXLA\", \"$CLMT\", \"$WHF\", \"$CLCT\", \"$MR\", \"$FCAP\", \"$ITMR\", \"$CSTR\", \"$NLS\", \"$SFST\", \"$STXB\", \"$COFS\", \"$LE\", \"$BCOM\", \"$ARA\", \"$ASPU\", \"$SDI\", \"$OPTN\", \"$SIEB\", \"$GNRSU\", \"$PTACU\", \"$MHH\", \"$TIPT\", \"$CATO\", \"$FPI\", \"$LFVN\", \"$IFRX\", \"$MRNS\", \"$AXTI\", \"$THCAU\", \"$FNLC\", \"$XNET\", \"$RDVT\", \"$TLSA\", \"$GNK\", \"$DMRC\", \"$ADRO\", \"$SMBK\", \"$GLAD\", \"$GIX\", \"$GNE\", \"$RBNC\", \"$SMBC\", \"$LDL\", \"$CWCO\", \"$SPFI\", \"$CONN\", \"$BCLI\", \"$PLYM\", \"$PNNT\", \"$SCPH\", \"$TH\", \"$NATH\", \"$CYBE\", \"$NRBO\", \"$FMAO\", \"$LMNR\", \"$CCRN\", \"$TBNK\", \"$CINR\", \"$SCPE\", \"$RADA\", \"$MFAC\", \"$MNCL\", \"$FRGI\", \"$AVXL\", \"$DL\", \"$TAST\", \"$ELLO\", \"$PCSB\", \"$GCAP\", \"$OSBC\", \"$CVTI\", \"$ALCO\", \"$GRTS\", \"$TITN\", \"$QEP\", \"$SLCA\", \"$LEJU\", \"$ATLC\", \"$OBSV\", \"$INFU\", \"$TGLS\", \"$ASPS\", \"$SCOR\", \"$MSON\", \"$IVC\", \"$FDUS\", \"$XCUR\", \"$PFIS\", \"$SONA\", \"$PCYO\", \"$XOMA\", \"$VERU\", \"$CIVB\", \"$EVFM\", \"$SILC\", \"$MCB\", \"$MNK\", \"$NWPX\", \"$PKE\", \"$UTI\", \"$TNAV\", \"$ACBI\", \"$MNOV\", \"$NCMI\", \"$FBIO\", \"$EVI\", \"$TACO\", \"$GWRS\", \"$MGI\", \"$ORBC\", \"$PBFS\", \"$HMI\", \"$ARYA\", \"$IPV.U\", \"$RBB\", \"$CPLG\", \"$SNR\", \"$EXTN\", \"$UFI\", \"$ITIC\", \"$LMNL\", \"$ODC\", \"$MCBC\", \"$SMMT\", \"$TNP\", \"$CUTR\", \"$RDHL\", \"$MSB\", \"$CNF\", \"$NYMX\", \"$BIOX\", \"$OAC\", \"$GLRE\", \"$THM\", \"$GWGH\", \"$GRTX\", \"$RVI\", \"$LHC\", \"$GAU\", \"$ETM\", \"$EQBK\", \"$RFL\", \"$LOAK.U\", \"$PTVCA\", \"$AFMD\", \"$GMDA\", \"$PLM\", \"$VERI\", \"$STRL\", \"$ABEO\", \"$HTBI\", \"$PLPC\", \"$CBMG\", \"$TELL\", \"$FLNG\", \"$ALTG\", \"$VIST\", \"$NFIN\", \"$SPRO\", \"$DNN\", \"$MOV\", \"$WRTC\", \"$AGRX\", \"$CHUY\", \"$TCRR\", \"$CZNC\", \"$PFNX\", \"$GPOR\", \"$ADMA\", \"$CBAY\", \"$KRP\", \"$BRP\", \"$LMRK\", \"$CAMP\", \"$WSR\", \"$CCNE\", \"$NDLS\", \"$CHMA\", \"$IRMD\", \"$CASI\", \"$HUIZ\", \"$EBTC\", \"$HKIB\", \"$GLOG\", \"$USAS\", \"$ACRE\", \"$SI\", \"$BFYT\", \"$FLY\", \"$USX\", \"$AOSL\", \"$SOHU\", \"$HEXO\", \"$LOVE\", \"$SXC\", \"$GORO\", \"$BSGM\", \"$OPY\", \"$CSWC\", \"$GRWG\", \"$AMNB\", \"$HOOK\", \"$GSH\", \"$SSTI\", \"$TMQ\", \"$FWP\", \"$BSRR\", \"$GNTY\", \"$AKTS\", \"$LQDA\", \"$VALU\", \"$ATAX\", \"$ICAD\", \"$ORC\", \"$QD\", \"$FISI\", \"$OUNZ\", \"$MOD\", \"$MJCO\", \"$CAN\", \"$GSKY\", \"$VRAY\", \"$PRQR\", \"$AMCI\", \"$FINV\", \"$AXU\", \"$MCBS\", \"$EXK\", \"$CDXC\", \"$NEPT\", \"$CSPR\", \"$DFIN\", \"$GPMT\", \"$NPA\", \"$CATC\", \"$HAFC\", \"$MTRX\", \"$OOMA\", \"$ETH\", \"$FC\", \"$PIC\", \"$NBR\", \"$BWB\", \"$TK\", \"$CNCE\", \"$RMG\", \"$DFPHU\", \"$SCVX.U\", \"$RUTH\", \"$BFST\", \"$DMYT.U\", \"$TRUE\", \"$PIC.U\", \"$INS\", \"$OPRT\", \"$WTBA\", \"$NVEC\", \"$LL\", \"$RRBI\", \"$MCFT\", \"$GCO\", \"$LAWS\", \"$SHLL\", \"$HAYN\", \"$JCAP\", \"$NTP\", \"$IGIC\", \"$EZPW\", \"$COE\", \"$WTRE\", \"$AMAG\", \"$THBR\", \"$BHB\", \"$CPE\", \"$WLDN\", \"$ATRO\", \"$FMCI\", \"$LCI\", \"$ATEC\", \"$BREW\", \"$TMDX\", \"$OVID\", \"$MPAA\", \"$VSEC\", \"$DX\", \"$EIGR\", \"$MOFG\", \"$SMMC\", \"$OIS\", \"$MNKD\", \"$BWMX\", \"$OGI\", \"$CDEV\", \"$AMCIU\", \"$BCOV\", \"$MNLO\", \"$IBCP\", \"$VSTM\", \"$SPNE\", \"$VRCA\", \"$RMNI\", \"$BTU\", \"$BZH\", \"$POWL\", \"$SCU\", \"$BCYC\", \"$CAL\", \"$VLGEA\", \"$CRAI\", \"$SSPK\", \"$FSRV\", \"$NGVC\", \"$TXMD\", \"$GSS\", \"$FLDM\", \"$VFF\", \"$LNDC\", \"$NODK\", \"$EGAN\", \"$NOG\", \"$CO\", \"$HVT\", \"$LEGH\", \"$BXG\", \"$SSPKU\", \"$VPG\", \"$OLP\", \"$GPRE\", \"$ALRS\", \"$TPVG\", \"$STXS\", \"$SRG\", \"$LAND\", \"$SCPL\", \"$CLDT\", \"$FFIC\", \"$ETNB\", \"$DGII\", \"$PFLT\", \"$CLAR\", \"$HOME\", \"$DHIL\", \"$ARTNA\", \"$AVID\", \"$CIA\", \"$CNTG\", \"$NH\", \"$HCCOU\", \"$CURO\", \"$SENEA\", \"$RIGL\", \"$CPSI\", \"$SELB\", \"$MLR\", \"$KMDA\", \"$GERN\", \"$SOGO\", \"$FMNB\", \"$ICLK\", \"$TPCO\", \"$YI\", \"$UFPT\", \"$OXFD\", \"$PRTS\", \"$HMLP\", \"$EXPC\", \"$GBLI\", \"$CSV\", \"$HVT.A\", \"$SWIR\", \"$HIBB\", \"$TARA\", \"$VMD\", \"$CAI\", \"$GLP\", \"$UROV\", \"$DXPE\", \"$CCAC.U\", \"$CCBG\", \"$WVE\", \"$NEN\", \"$SRLP\", \"$APTS\", \"$HIFS\", \"$IIIN\", \"$NFE\", \"$HESM\", \"$CATS\", \"$SPPI\", \"$UIHC\", \"$DPHC\", \"$AMOT\", \"$QTT\", \"$CDMO\", \"$RC\", \"$GRVY\", \"$GDEN\", \"$RGP\", \"$PGC\", \"$MTW\", \"$HRTG\", \"$CNBKA\", \"$KE\", \"$PRPL\", \"$DPHCU\", \"$DGICB\", \"$GBL\", \"$GXGX\", \"$AMAL\", \"$ASIX\", \"$HBT\", \"$STRO\", \"$CCAP\", \"$MTSC\", \"$MSBI\", \"$CTMX\", \"$RUBI\", \"$PAYS\", \"$HFFG\", \"$YRD\", \"$AMOV\", \"$ITRN\", \"$USCR\", \"$ALLT\", \"$TUFN\", \"$NEWT\", \"$RGS\", \"$LOOP\", \"$HCI\", \"$PAE\", \"$CUBI\", \"$GRAM\", \"$MBWM\", \"$SGU\", \"$FSB\", \"$BRY\", \"$MGTA\", \"$COWN\", \"$RDIB\", \"$KOP\", \"$MCRB\", \"$ANIP\", \"$CTSO\", \"$LXFR\", \"$CFFA\", \"$DTIL\", \"$UTMD\", \"$OSMT\", \"$IOTS\", \"$GAIN\", \"$DCO\", \"$SCVL\", \"$PDLI\", \"$PGNX\", \"$BOMN\", \"$MCF\", \"$CASA\", \"$WSBF\", \"$TRNE\", \"$XENT\", \"$ANGO\", \"$BLBD\", \"$CHPMU\", \"$ACTT\", \"$FLIC\", \"$GRAF\", \"$EH\", \"$MUX\", \"$FCBC\", \"$HEBT\", \"$CTK\", \"$TRC\", \"$PROS\", \"$ACAM\", \"$REX\", \"$CSTE\", \"$LGC\", \"$CDZI\", \"$PUYI\", \"$MPX\", \"$JMIA\", \"$DJCO\", \"$SBE\", \"SBE\", \"$HCCI\", \"$MITK\", \"$BLFS\", \"$AMTBB\", \"$AXGN\", \"$HMTV\", \"$CTT\", \"$BBDC\", \"$ONE\", \"$BBSI\", \"$MX\", \"$ECOM\", \"$VVI\", \"$AVD\", \"$REVG\", \"$FRPH\", \"$ARLP\", \"$CYH\", \"$LCA\", \"$WTI\", \"$TIGR\", \"$BCEI\", \"$MTL\", \"$SFTW.U\", \"$YJ\", \"$FLGT\", \"$ACTTU\", \"$XBIT\", \"$AGLE\", \"$RTLR\", \"$LPG\", \"$RESI\", \"$LCAHU\", \"$TGS\", \"$DSPG\", \"$CALA\", \"$DMLP\", \"$CRD.B\", \"$ULH\", \"$LC\", \"$ALBO\", \"$ZIXI\", \"$YIN\", \"$SBR\", \"$DGICA\", \"$HZO\", \"$MIRM\", \"$USLM\", \"$DSSI\", \"$BFZ\", \"$BDGE\", \"$JIH\", \"$BNFT\", \"$MRUS\", \"$PGEN\", \"$CEPU\", \"$KBAL\", \"$PLAY\", \"$UXIN\", \"$MEIP\", \"$OSW\", \"$PUB\", \"$NPTN\", \"$CRD.A\", \"$LAC\", \"$DBD\", \"$FMBH\", \"$HCKT\", \"$MTL/P\", \"$CIR\", \"$CLNE\", \"$QK\", \"$PBYI\", \"$XPEL\", \"$BSTC\", \"$AROW\", \"$ORGO\", \"$GTX\", \"$KRMD\", \"$IHC\", \"$CARS\", \"$HSII\", \"$OCUL\", \"$MCS\", \"$STSA\", \"$APXT\", \"$NX\", \"$RPLA\", \"$PSNL\", \"$NSSC\", \"$SYRS\", \"$JIH.U\", \"$ANDE\", \"$SCHN\", \"$BYSI\", \"$PRTA\", \"$TSC\", \"$CAAP\", \"$MEET\", \"$ERII\", \"$STKL\", \"$GILT\", \"$UBX\", \"$BOOM\", \"$GDYN\", \"$BMRC\", \"$VRML\", \"$PBI\", \"$HARP\", \"$CIO\", \"$FBMS\", \"$PEBO\", \"$PLYA\", \"$IMXI\", \"$CMTL\", \"$EROS\", \"$HWKN\", \"$RST\", \"$ENVA\", \"$TGI\", \"$AXDX\", \"$IIIV\", \"$FTAC\", \"$HBNC\", \"$EFC\", \"$XENE\", \"$AGYS\", \"$LIND\", \"$BFC\", \"$FULC\", \"$VYGR\", \"$CCO\", \"$CPF\", \"$MNRL\", \"$PAR\", \"$MBIN\", \"$VRRM\", \"$AVDL\", \"$EBF\", \"$VLRS\", \"$SM\", \"$VBIV\", \"$ESTA\", \"$CPRX\", \"$OBNK\", \"$BY\", \"$LBRT\", \"$VHC\", \"$APEI\", \"$TGH\", \"$ATRS\", \"$EXTR\", \"$QCRH\", \"$NVGS\", \"$DBI\", \"$SIGA\", \"$RMR\", \"$GTT\", \"$HONE\", \"$IVR\", \"$TPB\", \"$TBBK\", \"$GOGL\", \"$FCEL\", \"$THR\", \"$ARCH\", \"$DCOM\", \"$DRRX\", \"$BDSI\", \"$CEL\", \"$PACQ\", \"$OMI\", \"$HTBK\", \"$UBP\", \"$CNSL\", \"$THFF\", \"$AEGN\", \"$CODX\", \"$GTS\", \"$RAPT\", \"$UVSP\", \"$DESP\", \"$BJRI\", \"$HY\", \"$MYRG\", \"$AHH\", \"$WNC\", \"$WTTR\", \"$FI\", \"$IPOB.U\", \"$KNOP\", \"$SITM\", \"$CAC\", \"$MBI\", \"$MYE\", \"$CMO\", \"$CFB\", \"$SPWH\", \"$ANIK\", \"$NESR\", \"$BLX\", \"$PUMP\", \"$BCEL\", \"$IPHA\", \"$HYAC\", \"$SP\", \"$IESC\", \"$NLTX\", \"$CRBP\", \"$CRNX\", \"$TILE\", \"$MGIC\", \"$LOCO\", \"$GMRE\", \"$CBTX\", \"$CAMT\", \"$HUD\", \"$ACIU\", \"$SIBN\", \"$ICHR\", \"$RILY\", \"$URGN\", \"$MERC\", \"$SRDX\", \"$RPT\", \"$CNDT\", \"$HLIT\", \"$SRRK\", \"$CVM\", \"$SBLK\", \"$NXE\", \"$GMHI\", \"$MGTX\", \"$ABTX\", \"$KRA\", \"$CYD\", \"$RUBY\", \"$WINA\", \"$CGBD\", \"$WRLD\", \"$VRS\", \"$RMAX\", \"$EIGI\", \"$PARR\", \"$DAO\", \"$MRC\", \"$UMH\", \"$ARR\", \"$TG\", \"$UBA\", \"$VKTX\", \"$WETF\", \"$PDFS\", \"$DBVT\", \"$CLW\", \"$VAPO\", \"$NFBK\", \"$GSAT\", \"$LBC\", \"$ATEN\", \"$LMAT\", \"$FSP\", \"$TVTY\", \"$PLT\", \"$ADTN\", \"$CKH\", \"$BMTC\", \"$AGRO\", \"$BCSF\", \"$CANG\", \"$DUO\", \"$EVRI\", \"$BANC\", \"$REV\", \"$PACK\", \"$GPRK\", \"$AMTB\", \"$GRBK\", \"$ANAB\", \"$CENX\", \"$TNK\", \"$GHIVU\", \"$APRE\", \"$WASH\", \"$NAK\", \"$HMST\", \"$EVH\", \"$APTO\", \"$BHLB\", \"$BPFH\", \"$CRMT\", \"$QNST\", \"$CMRE\", \"$GIII\", \"$MMX\", \"$LOB\", \"$CRSA\", \"$SIG\", \"$ECHO\", \"$LNTH\", \"$ARCB\", \"$PACB\", \"$LOMA\", \"$KNL\", \"$MOBL\", \"$WOW\", \"$FRG\", \"$FLXN\", \"$TBK\", \"$NCBS\", \"$LBAI\", \"$GSBC\", \"$FREQ\", \"$PTGX\", \"$PFBC\", \"$SRI\", \"$TBI\", \"$SHYF\", \"$APPS\", \"$YORW\", \"$HLX\", \"$CPAC\", \"$CASS\",  \"$NEW\", \"$APOG\", \"$UVE\", \"$CNOB\", \"$IHRT\", \"$CTBI\", \"$TPC\", \"$FORR\", \"$ATHX\", \"$SNDX\", \"$BPYU\", \"$LORL\", \"$TCPC\", \"$PRVL\", \"$NVEE\", \"$CHEF\", \"$KELYA\", \"$SOAC.U\", \"$AGX\", \"$RDUS\", \"$MORF\", \"$NEXA\", \"$TRMD\", \"$IMKTA\", \"$VECO\", \"$EBSB\", \"$CCH\", \"$CAPL\", \"$FF\", \"$TRST\", \"$RBBN\", \"$ASMB\", \"$ACCO\", \"$SKT\", \"$CPAA\", \"$ATRA\", \"$BCOR\", \"$TRTX\", \"$KROS\", \"$GAN\", \"$CLVS\", \"$FRTA\", \"$FBM\", \"$LLNW\", \"$PI\", \"$DENN\", \"$MGPI\", \"$WIFI\", \"$CELH\", \"$INSW\", \"$TEN\", \"$VCRA\",  \"$VEC\", \"$AGMH\", \"$FDEF\", \"$TRIL\", \"$GLDD\", \"$PLCE\", \"$AUTL\", \"$STML\", \"$UEIC\", \"$ARDX\", \"$OFG\", \"$TCX\", \"$NEBU\", \"$FFWM\", \"$COHU\", \"$NPK\", \"$AMEH\", \"$DVAX\", \"$IMRA\", \"$SCSC\", \"$RWT\", \"$SGH\", \"$VIVO\", \"$KELYB\", \"$OCSL\", \"$CRTO\", \"$VNDA\", \"$NAT\", \"$OII\", \"$AMBC\", \"$HEES\", \"$BLU\", \"$NEBUU\", \"$ERF\", \"$ZYXI\", \"$GOL\", \"$QTNT\", \"$ZUMZ\", \"$AMSWA\", \"$MIK\", \"$VSTO\", \"$PNTG\", \"$CASH\", \"$NEX\", \"$KFRC\", \"$CLNC\", \"$OFIX\", \"$QUOT\", \"$CSTL\", \"$MATW\", \"$GNMK\", \"$PRVB\", \"$AGM.A\", \"$RBCAA\", \"$CNXM\", \"$HFWA\", \"$VCEL\", \"$GSBD\", \"$NXGN\", \"$BBAR\", \"$BOOT\", \"$PAM\", \"$CTS\", \"$SXI\", \"$ZIOP\", \"$INN\", \"$XPER\", \"$DDS\", \"$NIU\", \"$FIXX\", \"$GES\", \"$RES\", \"$PBFX\", \"$GTHX\", \"$UFCS\", \"$BKD\", \"$HNGR\", \"$QIWI\", \"$OEC\", \"$JKS\", \"$COLL\", \"$AERI\", \"$BSIG\", \"$PTNR\", \"$SGRY\", \"$NWLI\", \"$BKE\", \"$TRWH\", \"$AMRX\", \"$BCRX\", \"$RCEL\", \"$HSTM\", \"$SPAQ\", \"$RTRX\", \"$GRPN\", \"$UIS\", \"$AGEN\", \"$LINX\", \"$PETQ\", \"$TPRE\", \"$MDP\", \"$MTEM\", \"$KRNY\", \"$AGM\", \"$MSGN\", \"$REPL\", \"$HA\", \"$OYST\", \"$RLMD\", \"$GLT\", \"$DQ\", \"$SLRC\", \"$AZRE\", \"$DKL\", \"$UTL\", \"$FBNC\", \"$WLKP\", \"$ANF\", \"$NTUS\", \"$LTM\", \"$EBIX\", \"$FSM\", \"$NGL\", \"$EXPI\", \"$BFS\", \"$NK\", \"$MCRI\", \"$RAD\", \"$AIR\", \"$VREX\", \"$AKRO\", \"$SSP\", \"$CDXS\", \"$CHX/I\", \"$FOR\", \"$RLGY\", \"$PETS\", \"$AVRO\", \"$CMCO\", \"$TPIC\", \"$CARA\", \"$KDMN\", \"$KALA\", \"$CBB\", \"$APY\", \"$TTGT\", \"$BRKL\", \"$CNR\", \"$GPRO\", \"$STC\", \"$FBK\", \"$FPH\", \"$CEVA\", \"$IMOS\", \"$OSUR\", \"$VNOM\", \"$QADB\", \"$HCC\", \"$HBM\", \"$EGRX\", \"$PLAB\", \"$NTGR\", \"$PRA\", \"$SVM\", \"$AHCO\", \"$NMRK\", \"$JOUT\", \"$EFSC\", \"$OXM\", \"$GBX\", \"$NXTC\", \"$RAVN\", \"$AMRS\", \"$DIN\", \"$PTEN\", \"$IMAX\", \"$KURA\", \"$BHE\", \"$SYBT\", \"$SYX\", \"$OPRA\", \"$QTRX\", \"$SPTN\", \"$GOSS\", \"$CLLS\", \"$NXRT\", \"$OMER\", \"$DAVA\", \"$GLNG\", \"$GWB\", \"$VRTS\", \"$ACEL\", \"$GABC\", \"$KOS\", \"$HOLI\", \"$CALX\", \"$UCTT\", \"$SG\", \"$JFU\", \"$FCF\", \"$FPAC\", \"$CHCT\", \"$GRC\", \"$DOMO\", \"$IPOC.U\", \"$OIBR.C\", \"$CPG\", \"$HRI\", \"$KIDS\", \"$NBHC\", \"$ARCT\", \"$BRBR\", \"$EB\", \"$PLOW\", \"$STOK\", \"$HSKA\", \"$TALO\", \"$TSE\", \"$TCBK\", \"$ALEX\", \"$PRIM\", \"$SILV\", \"$KRYS\",  \"$CUE\", \"$AFIN\", \"$GFF\", \"$LASR\", \"$NYMT\", \"$NGD\", \"$MFA\", \"$VET\", \"$DRD\", \"$AC\", \"$DHC\", \"$OSPN\", \"$AZZ\", \"$ENDP\", \"$DNOW\", \"$DHT\", \"$GVA\", \"$IRET\", \"$INGN\", \"$CWH\", \"$ELF\", \"$NBLX\", \"$PGTI\", \"$ACLS\", \"$STAR\", \"$ARCO\", \"$CRY\", \"$KRG\", \"$SY\", \"$RDNT\", \"$PFS\", \"$JWS.U\", \"$AMPH\", \"$RIG\", \"$AR\", \"$SNBR\", \"$IMGN\", \"$SRCE\", \"$TGP\", \"$AXL\", \"$UPLD\", \"$STBA\", \"$SHI\", \"$RYTM\", \"$SDC\", \"$LADR\", \"$VBTX\", \"$NP\", \"$FFG\", \"$CLS\", \"$WDR\", \"$STFC\", \"$REZI\", \"$SLP\", \"$ORTX\", \"$CCX\", \"$AKO.A\", \"$KREF\", \"$ATEX\", \"$SPH\", \"$CYRX\", \"$VRTU\", \"$NMFC\", \"$AZUL\", \"$CAKE\", \"$GMS\", \"$WBT\", \"$RPAY\", \"$ROAD\", \"$WHD\", \"$OCFC\", \"$SBSI\", \"$DDD\", \"$CLB\", \"$EVOP\", \"$INTL\", \"$EIG\", \"$BTAI\", \"$TCMD\", \"$ATNX\", \"$SMP\", \"$BITA\", \"$QQQX\", \"$NPO\", \"$HSC\", \"$BBBY\", \"$KTB\", \"$CCF\", \"$ABR\", \"$RRR\", \"$TMP\", \"$INFN\", \"$FTAI\", \"$IRT\", \"$VTIQ\", \"$USPH\", \"$ATNI\", \"$ORIC\", \"$SRNE\", \"$FUTU\", \"$ASTE\", \"$BUSE\", \"$APLT\", \"$JBSS\", \"$GHG\", \"$BGCP\", \"$GGAL\", \"$SAVE\", \"$MHO\", \"$STNG\", \"$LTHM\", \"$CCS\", \"$GSHD\", \"$PLUS\", \"$ENTA\", \"$CHCO\", \"$DLX\", \"$SWM\", \"$BLMN\", \"$BE\", \"$MTDR\", \"$INSG\", \"$WIRE\", \"$MBUU\", \"$SA\", \"$MAC\", \"$MSC\", \"$TROX\", \"$FARO\", \"$NHC\", \"$ERJ\", \"$HCAT\", \"$CETV\", \"$CRK\", \"$AROC\", \"$CEQP\", \"$ECPG\", \"$FRHC\", \"$FOE\", \"$RCKT\", \"$PRSC\", \"$TRS\", \"$CIG.C\", \"$FANH\", \"$LNN\", \"$GEL\", \"$CERS\", \"$TLND\", \"$CVGW\", \"$SCHL\", \"$VSLR\", \"$EGBN\", \"$BH.A\", \"$PAHC\", \"$XHR\", \"$CADE\", \"$HURN\", \"$TEO\", \"$UVV\", \"$AMRC\", \"$NTLA\", \"$HHR\", \"$MGNX\", \"$MDRX\", \"$RVLV\", \"$EPAC\", \"$QADA\", \"$CLNY\", \"$HUYA\", \"$COOP\", \"$MTRN\", \"$SSYS\", \"$ACMR\", \"$PASG\", \"$AKR\", \"$AUDC\", \"$MLAB\", \"$CSIQ\", \"$MODN\", \"$ECOL\", \"$SCWX\", \"$HNI\", \"$CSWI\", \"$ODT\", \"$RDWR\", \"$CNXN\", \"$CODI\", \"$KAI\", \"$MMI\", \"$INMD\", \"$LKFN\", \"$AMWD\", \"$HLG\", \"$DRQ\", \"$AKO.B\", \"$KAMN\", \"$SYKE\", \"$JOE\", \"$LX\", \"$AIMT\", \"$GTY\", \"$REGI\", \"$HLIO\", \"$TRUP\", \"$OFLX\", \"$NMIH\", \"$NFH\", \"$FDP\", \"$PHR\", \"$UNFI\", \"$PIPR\", \"$PMT\", \"$ARGO\", \"$JRVR\", \"$BMA\", \"$ESPR\", \"$MYGN\", \"$BATRK\", \"$AAWW\", \"$SAH\", \"$SBCF\", \"$SPNS\", \"$FORTY\", \"$MAG\", \"$CATM\", \"$DLPH\", \"$KRO\", \"$ROIC\", \"$SIM\", \"$PRDO\", \"$HOPE\", \"$CSTM\", \"$SLBG\", \"$WKHS\", \"SNDL\"]\n",
    "\n",
    "# Note, everything is uppercase\n",
    "# Get rid of these $ signs for comparison\n",
    "de = [x.strip(\"$\") for x in d]\n",
    "\n",
    "print(\"%s tickers in our current list\" % (len(de)))\n",
    "print(\"%s tickers in our generated list\" % (len(list_of_tickers)))\n",
    "print(\"%s tickers in common\" % (len(set(list_of_tickers).intersection(set(de)))))"
   ]
  },
  {
   "cell_type": "code",
   "execution_count": null,
   "metadata": {
    "id": "mXkYb8TCdQrO"
   },
   "outputs": [],
   "source": [
    "# Run all of our tickers through the dictionary and make a list of tickers that are words\n",
    "fakes = [x for x in list_of_tickers if dic.check(x)]"
   ]
  },
  {
   "cell_type": "code",
   "execution_count": null,
   "metadata": {
    "id": "3c9NYg2GdQrO"
   },
   "outputs": [],
   "source": [
    "# A list of spacs we can intersect as well\n",
    "spacs = ['PSTH', 'CCIV', 'BFT', 'FEAC', 'PRPB', 'WPF', 'SBE', 'IPOB', 'JWS', 'IPOC', 'DGNR', 'CRHC', 'GSAH', 'FTOC', 'RTP', 'RBAC', 'LCA', 'AACQ', 'GMHI', 'CIIC', 'CCX', 'VGAC', 'LGVW', 'STPK', 'AGC', 'ETAC', 'TWCT', 'GOAC', 'SEAH', 'HZAC', 'CFII', 'NGA', 'GRSV', 'TREB', 'TRNE', 'LEAP', 'FMAC', 'APXT', 'LCY', 'BOWX', 'VSPR', 'CMLF', 'GHIV', 'PCPL', 'THCB', 'RMG', 'QELL', 'EQD', 'ACND', 'ENPC', 'SVAC', 'HYAC', 'HEC', 'SFTW', 'HCAC', 'DMYT', 'IPV', 'DMYD', 'PIC', 'SNPR', 'PDAC', 'IGAC', 'RPLA', 'SMMC', 'JIH', 'THBR', 'FAII', 'BTAQ', 'FUSE', 'FCAC', 'YAC', 'ERES', 'DEH', 'TWND', 'PIAI', 'ACAM', 'GIK', 'SOAC', 'KSMT', 'VACQ', 'CHPM', 'GXGX', 'BSN', 'INAQ', 'FIII', 'HOL', 'CLII', 'PSAC', 'CCAC', 'ALUS', 'LOAK', 'ACTC', 'SRAC', 'AONE', 'EXPC', 'IACA', 'CPSR', 'SSPK', 'FSRV', 'CRSA', 'LATN', 'OACB', 'STWO', 'HPX', 'FTIV', 'ASAQ', 'MNCL', 'HSAQ', 'DFPH', 'ASPL', 'LCAP', 'SCVX', 'NPA', 'BCTG', 'DGNS', 'ACEV', 'THCA', 'DBDR', 'GIX', 'GIX^', 'NSH', 'SBG', 'PMVC', 'OAC', 'GNRS', 'VIH', 'TMTS', 'RCHG', 'FST', 'CLA', 'PTAC', 'RACA', 'CGRO', 'ESSC', 'GLEO', 'SCPE', 'DFNS', 'BLSA', 'NHIC', 'NOVS', 'SAII', 'MCMJ', 'DFHT', 'ARYA', 'GSMG', 'HCCH', 'PANA', 'NMMC', 'TDAC', 'PTK', 'MLAC', 'CAPA', 'SAMA', 'LSAC', 'LFAC', 'ROCH', 'HLXA', 'FSDC', 'AMCI', 'OPES', 'NBAC', 'VMAC', 'CHAQ', 'AHAC', 'JYAC', 'AMHC', 'LSAQ', 'PAIC', 'FVAM', 'LIVK', 'MCAC', 'ITAC', 'GRNV', 'ZGYH', 'LACQ', 'AGBA', 'BRLI', 'TZAC', 'GRCY', 'CCNC', 'ALAC', 'ANDA', 'TOTA', 'ID', 'MFAC', 'BRPA', 'LOAC', 'APSG', 'AVAN', 'DSAC', 'EMPW', 'FGNA', 'IMPX', 'IPOD', 'IPOF', 'MAAC', 'MACU', 'NBA', 'PACE', 'TPGY', 'VYGG']"
   ]
  },
  {
   "cell_type": "code",
   "execution_count": null,
   "metadata": {
    "id": "X_2Kgj5hdQrO"
   },
   "outputs": [],
   "source": [
    "# Filtered = all tickers that aren't spacs or english words or common acronyms/accepted tickers\n",
    "filtered = [x.strip(\" \") for x in list_of_tickers if x not in spacs and x not in fakes and x not in common]\n",
    "len(filtered)"
   ]
  },
  {
   "cell_type": "code",
   "execution_count": null,
   "metadata": {
    "id": "yM2Pm8M2dQrO",
    "scrolled": false
   },
   "outputs": [],
   "source": [
    "# Let's see it. Use this for the non-$-prefixed list\n",
    "print(filtered)"
   ]
  },
  {
   "cell_type": "code",
   "execution_count": null,
   "metadata": {},
   "outputs": [],
   "source": [
    "# For good measure let's get the unfiltered list (english words not filtered) with $ infront so we don't miss anything\n",
    "# Use this for the $-prefixed list\n",
    "complete = [x.strip(\" \") for x in list_of_tickers if x not in spacs]\n",
    "complete = [\"$\" + x for x in complete]"
   ]
  },
  {
   "cell_type": "code",
   "execution_count": null,
   "metadata": {},
   "outputs": [],
   "source": [
    "print(len(complete))\n",
    "print(complete)"
   ]
  }
 ],
 "metadata": {
  "colab": {
   "collapsed_sections": [],
   "name": "TickerOperations.ipynb",
   "provenance": []
  },
  "kernelspec": {
   "display_name": "Python 3",
   "language": "python",
   "name": "python3"
  },
  "language_info": {
   "codemirror_mode": {
    "name": "ipython",
    "version": 3
   },
   "file_extension": ".py",
   "mimetype": "text/x-python",
   "name": "python",
   "nbconvert_exporter": "python",
   "pygments_lexer": "ipython3",
   "version": "3.8.3"
  }
 },
 "nbformat": 4,
 "nbformat_minor": 1
}
