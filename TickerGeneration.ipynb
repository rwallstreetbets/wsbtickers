{
 "cells": [
  {
   "cell_type": "code",
   "execution_count": null,
   "metadata": {},
   "outputs": [],
   "source": [
    "'''\n",
    "The code below will generate a complete list of WSB accepted tickers when run on a home PC, things like Google Colab are \n",
    "blocked by NYSE or whoever is being queried though so it won't work 'in the cloud'.\n",
    "\n",
    "The output of the 'filtered' variable should be used for the uppercase non-$-prefixed list. The 'complete' variable \n",
    "should be used for the $-prefixed list since it won't match common words.\n",
    "'''"
   ]
  },
  {
   "cell_type": "code",
   "execution_count": null,
   "metadata": {
    "id": "HwPU-m3jdQrO"
   },
   "outputs": [],
   "source": [
    "%%capture\n",
    "# Install the dictionary lookup library\n",
    "!pip3 install pyenchant\n",
    "import enchant\n",
    "dic = enchant.Dict(\"en_US\")"
   ]
  },
  {
   "cell_type": "code",
   "execution_count": null,
   "metadata": {
    "id": "9q6t-VPpdQrO"
   },
   "outputs": [],
   "source": [
    "%%capture\n",
    "# Install the ticker lookup library\n",
    "!pip3 install get-all-tickers\n",
    "from get_all_tickers import get_tickers as gt"
   ]
  },
  {
   "cell_type": "code",
   "execution_count": null,
   "metadata": {
    "id": "wsw3JwwbbI7r"
   },
   "outputs": [],
   "source": [
    "# List of accepted acronyms/tickers\n",
    "common = ['wsb', 'salt', 'irl', 'gf', 'pdfs', 'sand', 'prpl', 'ppt', 'eod', 'cuz', 'star', 'amc', 'spce', 'alot', 'kodk', 'robo', 'meds', 'ay', 'csv', 'bj', 'gpro', 'stim', 'cspr', 'jwn', 'ogs', 'gen', 'hyln', 'eod']\n",
    "common = [x.upper() for x in common]"
   ]
  },
  {
   "cell_type": "code",
   "execution_count": null,
   "metadata": {
    "id": "QG5oA2RodQrO"
   },
   "outputs": [],
   "source": [
    "# mktcap_max is in millions, can change to min for other stuff\n",
    "list_of_tickers = gt.get_tickers_filtered(mktcap_max=1000)"
   ]
  },
  {
   "cell_type": "code",
   "execution_count": null,
   "metadata": {
    "id": "DWHXwMAxdQrO"
   },
   "outputs": [],
   "source": [
    "# Run if you want to see it\n",
    "print(list_of_tickers)"
   ]
  },
  {
   "cell_type": "code",
   "execution_count": null,
   "metadata": {
    "id": "Iph793h1dQrO"
   },
   "outputs": [],
   "source": [
    "# Put the current automod list here to see the intersection between AutoMod and newly generated list\n",
    "d = []\n",
    "\n",
    "# Note, everything is uppercase\n",
    "# Get rid of these $ signs for comparison\n",
    "de = [x.strip(\"$\") for x in d]\n",
    "\n",
    "print(\"%s tickers in our current list\" % (len(de)))\n",
    "print(\"%s tickers in our generated list\" % (len(list_of_tickers)))\n",
    "print(\"%s tickers in common\" % (len(set(list_of_tickers).intersection(set(de)))))"
   ]
  },
  {
   "cell_type": "code",
   "execution_count": null,
   "metadata": {
    "id": "mXkYb8TCdQrO"
   },
   "outputs": [],
   "source": [
    "# Run all of our tickers through the dictionary and make a list of tickers that are words\n",
    "fakes = [x for x in list_of_tickers if dic.check(x)]"
   ]
  },
  {
   "cell_type": "code",
   "execution_count": null,
   "metadata": {
    "id": "3c9NYg2GdQrO"
   },
   "outputs": [],
   "source": [
    "# A list of spacs we can intersect as well\n",
    "spacs = ['PSTH', 'CCIV', 'BFT', 'FEAC', 'PRPB', 'WPF', 'SBE', 'IPOB', 'JWS', 'IPOC', 'DGNR', 'CRHC', 'GSAH', 'FTOC', 'RTP', 'RBAC', 'LCA', 'AACQ', 'GMHI', 'CIIC', 'CCX', 'VGAC', 'LGVW', 'STPK', 'AGC', 'ETAC', 'TWCT', 'GOAC', 'SEAH', 'HZAC', 'CFII', 'NGA', 'GRSV', 'TREB', 'TRNE', 'LEAP', 'FMAC', 'APXT', 'LCY', 'BOWX', 'VSPR', 'CMLF', 'GHIV', 'PCPL', 'THCB', 'RMG', 'QELL', 'EQD', 'ACND', 'ENPC', 'SVAC', 'HYAC', 'HEC', 'SFTW', 'HCAC', 'DMYT', 'IPV', 'DMYD', 'PIC', 'SNPR', 'PDAC', 'IGAC', 'RPLA', 'SMMC', 'JIH', 'THBR', 'FAII', 'BTAQ', 'FUSE', 'FCAC', 'YAC', 'ERES', 'DEH', 'TWND', 'PIAI', 'ACAM', 'GIK', 'SOAC', 'KSMT', 'VACQ', 'CHPM', 'GXGX', 'BSN', 'INAQ', 'FIII', 'HOL', 'CLII', 'PSAC', 'CCAC', 'ALUS', 'LOAK', 'ACTC', 'SRAC', 'AONE', 'EXPC', 'IACA', 'CPSR', 'SSPK', 'FSRV', 'CRSA', 'LATN', 'OACB', 'STWO', 'HPX', 'FTIV', 'ASAQ', 'MNCL', 'HSAQ', 'DFPH', 'ASPL', 'LCAP', 'SCVX', 'NPA', 'BCTG', 'DGNS', 'ACEV', 'THCA', 'DBDR', 'GIX', 'GIX^', 'NSH', 'SBG', 'PMVC', 'OAC', 'GNRS', 'VIH', 'TMTS', 'RCHG', 'FST', 'CLA', 'PTAC', 'RACA', 'CGRO', 'ESSC', 'GLEO', 'SCPE', 'DFNS', 'BLSA', 'NHIC', 'NOVS', 'SAII', 'MCMJ', 'DFHT', 'ARYA', 'GSMG', 'HCCH', 'PANA', 'NMMC', 'TDAC', 'PTK', 'MLAC', 'CAPA', 'SAMA', 'LSAC', 'LFAC', 'ROCH', 'HLXA', 'FSDC', 'AMCI', 'OPES', 'NBAC', 'VMAC', 'CHAQ', 'AHAC', 'JYAC', 'AMHC', 'LSAQ', 'PAIC', 'FVAM', 'LIVK', 'MCAC', 'ITAC', 'GRNV', 'ZGYH', 'LACQ', 'AGBA', 'BRLI', 'TZAC', 'GRCY', 'CCNC', 'ALAC', 'ANDA', 'TOTA', 'ID', 'MFAC', 'BRPA', 'LOAC', 'APSG', 'AVAN', 'DSAC', 'EMPW', 'FGNA', 'IMPX', 'IPOD', 'IPOF', 'MAAC', 'MACU', 'NBA', 'PACE', 'TPGY', 'VYGG']"
   ]
  },
  {
   "cell_type": "code",
   "execution_count": null,
   "metadata": {
    "id": "X_2Kgj5hdQrO"
   },
   "outputs": [],
   "source": [
    "# Filtered = all tickers that aren't spacs or english words or common acronyms/accepted tickers\n",
    "filtered = [x.strip(\" \") for x in list_of_tickers if x not in spacs and x not in fakes and x not in common]\n",
    "len(filtered)"
   ]
  },
  {
   "cell_type": "code",
   "execution_count": null,
   "metadata": {
    "id": "yM2Pm8M2dQrO",
    "scrolled": false
   },
   "outputs": [],
   "source": [
    "# Let's see it. Use this for the non-$-prefixed list\n",
    "print(filtered)"
   ]
  },
  {
   "cell_type": "code",
   "execution_count": null,
   "metadata": {},
   "outputs": [],
   "source": [
    "# For good measure let's get the unfiltered list (english words not filtered) with $ infront so we don't miss anything\n",
    "# Use this for the $-prefixed list\n",
    "complete = [x.strip(\" \") for x in list_of_tickers if x not in spacs]\n",
    "complete = [\"$\" + x for x in complete]"
   ]
  },
  {
   "cell_type": "code",
   "execution_count": null,
   "metadata": {},
   "outputs": [],
   "source": [
    "print(len(complete))\n",
    "print(complete)"
   ]
  }
 ],
 "metadata": {
  "colab": {
   "collapsed_sections": [],
   "name": "TickerOperations.ipynb",
   "provenance": []
  },
  "kernelspec": {
   "display_name": "Python 3",
   "language": "python",
   "name": "python3"
  },
  "language_info": {
   "codemirror_mode": {
    "name": "ipython",
    "version": 3
   },
   "file_extension": ".py",
   "mimetype": "text/x-python",
   "name": "python",
   "nbconvert_exporter": "python",
   "pygments_lexer": "ipython3",
   "version": "3.8.3"
  }
 },
 "nbformat": 4,
 "nbformat_minor": 1
}
